{
 "cells": [
  {
   "cell_type": "markdown",
   "metadata": {},
   "source": [
    "Prerequisites:\n",
    "\n",
    "* python 3.6, we use the f-string notation ( [pep 498](https://www.python.org/dev/peps/pep-0498/) ). Alternatively you can modify the code to use python 3.5-compatible formatting\n",
    "\n",
    "* Best way to get python is via [Anaconda](https://www.anaconda.com/download/)\n",
    "\n",
    "* You need to install `tinydb`: `pip install tinydb`\n",
    "\n",
    "* You need to build our python wrappers: `make bind`\n",
    "\n",
    "* You need faiss python wrappers\n",
    "\n",
    "* You need to build our FastText fork: `cd fastText ; make `\n",
    "\n",
    "* You need to get dataset from [Extreme Classification Repo](http://manikvarma.org/downloads/XC/XMLRepository.html)\n",
    "\n",
    "* The downloaded dataset has to be renamed to `train.txt` and `test.txt` (or you can fix the loader code)\n",
    "\n",
    "* Data should be in `<root>/data`, or you can change the paths in this script"
   ]
  },
  {
   "cell_type": "code",
   "execution_count": null,
   "metadata": {
    "collapsed": true
   },
   "outputs": [],
   "source": [
    "# Change working directory to the root of the project\n",
    "\n",
    "cd .."
   ]
  },
  {
   "cell_type": "markdown",
   "metadata": {},
   "source": [
    "# Data"
   ]
  },
  {
   "cell_type": "markdown",
   "metadata": {},
   "source": [
    "system-related stuff"
   ]
  },
  {
   "cell_type": "code",
   "execution_count": null,
   "metadata": {
    "collapsed": true
   },
   "outputs": [],
   "source": [
    "import sys\n",
    "import os"
   ]
  },
  {
   "cell_type": "markdown",
   "metadata": {},
   "source": [
    "Add these directories to PYTHONPATH so that we can import them"
   ]
  },
  {
   "cell_type": "code",
   "execution_count": null,
   "metadata": {
    "collapsed": true
   },
   "outputs": [],
   "source": [
    "sys.path.append(os.path.abspath('./faiss/'))\n",
    "sys.path.append(os.path.abspath('./python/'))"
   ]
  },
  {
   "cell_type": "markdown",
   "metadata": {},
   "source": [
    "Import our functions to read Extreme-Repository data format and to transform it to FastText format"
   ]
  },
  {
   "cell_type": "code",
   "execution_count": null,
   "metadata": {
    "collapsed": true
   },
   "outputs": [],
   "source": [
    "from experiments.data import get_data\n",
    "from misc.utils import to_ft, load_sift"
   ]
  },
  {
   "cell_type": "markdown",
   "metadata": {},
   "source": [
    "Read exrepo format, transform it to FastText format (stored in `./data/LSHTC-FT/*.txt`)"
   ]
  },
  {
   "cell_type": "code",
   "execution_count": 13,
   "metadata": {
    "scrolled": true
   },
   "outputs": [
    {
     "name": "stderr",
     "output_type": "stream",
     "text": [
      "2017-11-28 23:15:49,962 - root - INFO - Data not found or `force` flag was passed, I'm going to prepare it and store at ./data/LSHTC/X_train.csr.npz.\n",
      "2017-11-28 23:21:12,478 - root - INFO - Data not found or `force` flag was passed, I'm going to prepare it and store at ./data/LSHTC/X_test.csr.npz.\n"
     ]
    }
   ],
   "source": [
    "X, Y, words_mask, labels_mask = get_data('./data/LSHTC', 'train', min_words=3, min_labels=3)\n",
    "to_ft(X, Y, './data/LSHTC-FT/train.txt')\n",
    "\n",
    "X, Y, *_ = get_data('./data/LSHTC', 'test', words_mask=words_mask, labels_mask=labels_mask)\n",
    "to_ft(X, Y, './data/LSHTC-FT/test.txt')"
   ]
  },
  {
   "cell_type": "markdown",
   "metadata": {},
   "source": [
    "Generate fasttext commands to be run. They will generate our MIPS dataset.\n",
    "\n",
    "What they do is they first train a FastText model, and then instead of calling `predict()`,\n",
    "we'll go through each example and write to disk three things:\n",
    "\n",
    "* correct answers\n",
    "\n",
    "* hidden vectors from the model (our `QUERIES`)\n",
    "\n",
    "* output-weight matrix (our `BASE` vectors) "
   ]
  },
  {
   "cell_type": "code",
   "execution_count": 24,
   "metadata": {
    "code_folding": [
     0,
     7,
     22
    ],
    "collapsed": true
   },
   "outputs": [],
   "source": [
    "def make_cmd(*args, **kwargs):\n",
    "    args = ' '.join(args)\n",
    "    opts = ' '.join(f'-{k} {v}' for k, v in kwargs.items())\n",
    "    cmd  = f'./fastText/fasttext {args} {opts}'\n",
    "    \n",
    "    return cmd.split()\n",
    "\n",
    "train_cmd = make_cmd('supervised', \n",
    "                     input         = './data/LSHTC-FT/train.txt',\n",
    "                     output        = './data/LSHTC-FT/model.ft',\n",
    "                     minCount      = 5,\n",
    "                     minCountLabel = 5,\n",
    "                     lr            = 0.1,\n",
    "                     lrUpdateRate  = 100,\n",
    "                     dim           = 256,\n",
    "                     ws            = 5,\n",
    "                     epoch         = 25,\n",
    "                     neg           = 25,\n",
    "                     loss          = 'ns',\n",
    "                     thread        = 8,\n",
    "                     saveOutput    = 1)\n",
    "\n",
    "generate_cmd = make_cmd('to-fvecs',\n",
    "                        './data/LSHTC-FT/model.ft.bin',\n",
    "                        './data/LSHTC-FT/test.txt',\n",
    "                        './data/LSHTC-FT/fvecs')\n"
   ]
  },
  {
   "cell_type": "markdown",
   "metadata": {},
   "source": [
    "Runs bash command prepared above"
   ]
  },
  {
   "cell_type": "code",
   "execution_count": 19,
   "metadata": {},
   "outputs": [
    {
     "data": {
      "text/plain": [
       "0"
      ]
     },
     "execution_count": 19,
     "metadata": {},
     "output_type": "execute_result"
    },
    {
     "data": {
      "text/plain": [
       "0"
      ]
     },
     "execution_count": 19,
     "metadata": {},
     "output_type": "execute_result"
    }
   ],
   "source": [
    "import subprocess\n",
    "\n",
    "subprocess.call(train_cmd)\n",
    "subprocess.call(generate_cmd)"
   ]
  },
  {
   "cell_type": "markdown",
   "metadata": {},
   "source": [
    "# Tests\n",
    "\n",
    "We're gonna run some `Indices` on the data that we generated above"
   ]
  },
  {
   "cell_type": "markdown",
   "metadata": {},
   "source": [
    "Outside imports"
   ]
  },
  {
   "cell_type": "code",
   "execution_count": 1,
   "metadata": {
    "collapsed": true
   },
   "outputs": [],
   "source": [
    "import datetime\n",
    "import json\n",
    "import logging\n",
    "import os\n",
    "import sys\n",
    "import time\n",
    "import uuid\n",
    "\n",
    "import numpy as np\n",
    "\n",
    "from contextlib import contextmanager\n",
    "from tinydb import TinyDB, where\n"
   ]
  },
  {
   "cell_type": "markdown",
   "metadata": {},
   "source": [
    "Our imports"
   ]
  },
  {
   "cell_type": "code",
   "execution_count": null,
   "metadata": {
    "collapsed": true
   },
   "outputs": [],
   "source": [
    "sys.path.append(os.path.abspath('./faiss/'))\n",
    "sys.path.append(os.path.abspath('./python/'))\n",
    "\n",
    "import faiss\n",
    "import mips\n",
    "\n",
    "from experiments.data import get_data\n",
    "from misc.utils import to_ft, load_sift\n"
   ]
  },
  {
   "cell_type": "markdown",
   "metadata": {},
   "source": [
    "Some basic logging"
   ]
  },
  {
   "cell_type": "code",
   "execution_count": null,
   "metadata": {
    "collapsed": true
   },
   "outputs": [],
   "source": [
    "logging.basicConfig(level=logging.DEBUG)\n",
    "logger = logging.getLogger()"
   ]
  },
  {
   "cell_type": "markdown",
   "metadata": {},
   "source": [
    "### Simple utils functions"
   ]
  },
  {
   "cell_type": "code",
   "execution_count": 2,
   "metadata": {
    "code_folding": [],
    "collapsed": true
   },
   "outputs": [],
   "source": [
    "@contextmanager\n",
    "def timer():\n",
    "    \"\"\" Simple context manager to convieniently measure times between enter and exit \"\"\"\n",
    "    \n",
    "    class Clock:\n",
    "        elapsed = 0\n",
    "        \n",
    "    t0 = time.time()\n",
    "    \n",
    "    yield Clock\n",
    "    \n",
    "    Clock.elapsed = time.time() - t0\n",
    "\n",
    "\n",
    "def search(idx, data, k):\n",
    "    \"\"\" Search top-k items in `data` using `idx` \n",
    "    \n",
    "    This is needed because currently our wrappers return 1-D arrays, so we need to reshape them\n",
    "\n",
    "    \"\"\"\n",
    "    \n",
    "    D, I = idx.search(data, k)\n",
    "    D, I = D.reshape(-1, k), I.reshape(-1, k)\n",
    "    \n",
    "    return D, I\n",
    "\n",
    "\n",
    "def compute_p1(G, I):\n",
    "    \"\"\" Compute precision-at-1 for groundtruth `G` and predicted indices `I` \"\"\"\n",
    "    \n",
    "    p1 = 0.\n",
    "    for i, item in enumerate(I):\n",
    "        p1 += float(int(item) in G[i])\n",
    "\n",
    "    p1 /= len(G)\n",
    "    \n",
    "    return p1\n",
    "\n",
    "\n",
    "def test_idx(IdxClass, params, xb, xq, G, k=100):\n",
    "    \"\"\" Train and test the given Index class with given params \n",
    "    \n",
    "    Use the provided base, query, and groundtruth vectors. \n",
    "    \n",
    "    Index will predict top-`k` entries.\n",
    "    \n",
    "    In case of failure, the exception is returned as string\n",
    "    \n",
    "    This function returns a Report dictionary\n",
    "    \n",
    "    \"\"\"\n",
    "    \n",
    "    try:\n",
    "\n",
    "        idx = IdxClass(**params)\n",
    "\n",
    "        with timer() as train_t:\n",
    "            idx.train(xb)\n",
    "            idx.add(xb)\n",
    "\n",
    "        with timer() as search_t:\n",
    "            _, I = search(idx, xq, k)\n",
    "\n",
    "        p1 = compute_p1(G, I[:, 0])\n",
    "\n",
    "        report = make_report(IdxClass, params, p1, train_t.elapsed, search_t.elapsed)\n",
    "    \n",
    "    except Exception as e:\n",
    "        print('FAILED: ' + str(e))\n",
    "        report = str(e)\n",
    "\n",
    "    return report\n",
    "\n",
    "\n",
    "def now():\n",
    "    \"\"\" Helper function to format current timestamp \"\"\"\n",
    "    \n",
    "    return datetime.datetime.fromtimestamp(time.time()).strftime(\"%d-%m-%y %H:%M:%S\")\n",
    "\n",
    "\n",
    "def make_report(IdxClass, params, p1, train_t, search_t):\n",
    "    \"\"\" Create a Report dictionary for given set of parameters \"\"\"\n",
    "    \n",
    "    return {\n",
    "        'ID': uuid.uuid4().hex,\n",
    "        'algo': IdxClass.__name__,\n",
    "        'params': params,\n",
    "        'p1': p1,\n",
    "        'train_t': train_t,\n",
    "        'search_t': search_t\n",
    "    }\n",
    "\n",
    "\n",
    "def add_result(r):\n",
    "    \"\"\" Add result `r` to the database \"\"\"\n",
    "    \n",
    "    if isinstance(r, dict):\n",
    "        algo, params, p1, t = r['algo'], r['params'], r['p1'], r['search_t']\n",
    "        rep = f'(params={params}, p1={p1:.2f}, t={t:.2f})'\n",
    "    else:\n",
    "        rep = r\n",
    "    \n",
    "    logger.info(f'Adding: {rep}')\n",
    "    \n",
    "    def result_adder(doc):\n",
    "        doc['results'].append(r)\n",
    "        \n",
    "    DB.update(result_adder, where('ID') == ID)\n",
    "\n",
    "\n",
    "def test(IdxClass, **params):\n",
    "    \"\"\" Even higher-level wrapper for testing \"\"\"\n",
    "    \n",
    "    return test_idx(IdxClass, params, xb, xq, G, k=100)\n"
   ]
  },
  {
   "cell_type": "markdown",
   "metadata": {},
   "source": [
    "Create the database we'll store the results in"
   ]
  },
  {
   "cell_type": "code",
   "execution_count": 3,
   "metadata": {},
   "outputs": [
    {
     "data": {
      "text/plain": [
       "1"
      ]
     },
     "execution_count": 3,
     "metadata": {},
     "output_type": "execute_result"
    }
   ],
   "source": [
    "# !rm ./data/results/ad-hoc-db.json\n",
    "DB = TinyDB('./data/results/ad-hoc-db.json')\n",
    "ID = uuid.uuid4().hex\n",
    "\n",
    "info = dict(\n",
    "    ID = ID,\n",
    "    name = 'ad-hoc-results',\n",
    "    date = now(),\n",
    "    results = []\n",
    ")\n",
    "\n",
    "DB.insert(info)"
   ]
  },
  {
   "cell_type": "markdown",
   "metadata": {},
   "source": [
    "Load the generated dataset"
   ]
  },
  {
   "cell_type": "code",
   "execution_count": null,
   "metadata": {
    "collapsed": true
   },
   "outputs": [],
   "source": [
    "xq = load_sift('./data/LSHTC-FT/fvecs.hid.fvecs', dtype=np.float32)\n",
    "xb = load_sift('./data/LSHTC-FT/fvecs.wo.fvecs', dtype=np.float32)\n",
    "\n",
    "_n, d, c = xq.shape[0], xq.shape[1], xb.shape[0]"
   ]
  },
  {
   "cell_type": "markdown",
   "metadata": {},
   "source": [
    "We do not run on all queries, but on random subset of `lIMIT` queries"
   ]
  },
  {
   "cell_type": "code",
   "execution_count": 4,
   "metadata": {
    "collapsed": true
   },
   "outputs": [],
   "source": [
    "LIMIT = 250_000\n",
    "\n",
    "inds = np.random.choice(np.arange(_n), LIMIT, replace=False)\n",
    "xq   = xq[inds, :]\n",
    "\n",
    "xq = np.copy(np.ascontiguousarray(xq), order='C')\n",
    "xb = np.copy(np.ascontiguousarray(xb), order='C')\n",
    "\n",
    "n = xq.shape[0]\n"
   ]
  },
  {
   "cell_type": "markdown",
   "metadata": {},
   "source": [
    "Load groundtruth"
   ]
  },
  {
   "cell_type": "code",
   "execution_count": null,
   "metadata": {
    "collapsed": true
   },
   "outputs": [],
   "source": [
    "G = []\n",
    "for line in open('./data/LSHTC-FT/fvecs.labels.txt'):\n",
    "    G.append({int(y) for y in line.split()})\n",
    "G = [G[idx] for idx in inds]"
   ]
  },
  {
   "cell_type": "markdown",
   "metadata": {},
   "source": [
    "Logging"
   ]
  },
  {
   "cell_type": "code",
   "execution_count": 5,
   "metadata": {},
   "outputs": [
    {
     "name": "stderr",
     "output_type": "stream",
     "text": [
      "2017-11-29 03:35:45,205 - root - INFO - Loaded dataset of 576_246, 256-dimensionsl queries (examples), but limiting to 250_000 queries\n",
      "2017-11-29 03:35:45,205 - root - INFO - The dataset contains 163_679 classes, and more than one class can be positive\n"
     ]
    }
   ],
   "source": [
    "logger.info(f\"Loaded dataset of {_n:_}, {d:_}-dimensionsl queries (examples), but limiting to {LIMIT:_} queries\")\n",
    "logger.info(f\"The dataset contains {c:_} classes, and more than one class can be positive\")"
   ]
  },
  {
   "cell_type": "markdown",
   "metadata": {},
   "source": [
    "# Proxies\n",
    "\n",
    "These are simple helper classes that will delegate method calls to underlying index, \n",
    "but expose a consistent API to create these Indices"
   ]
  },
  {
   "cell_type": "code",
   "execution_count": 14,
   "metadata": {
    "collapsed": true
   },
   "outputs": [],
   "source": [
    "class IVFIndex:\n",
    "    def __init__(self, d, size, nprobe):\n",
    "        self.index = faiss.index_factory(d, f\"IVF{size},Flat\", faiss.METRIC_INNER_PRODUCT)\n",
    "        self.index.nprobe = nprobe\n",
    "\n",
    "    def __getattr__(self, name):\n",
    "        return getattr(self.index, name)\n",
    "    \n",
    "    \n",
    "class KMeansIndex:\n",
    "    def __init__(self, d, layers, nprobe, m, U):\n",
    "        self.aug = mips.MipsAugmentationShrivastava(d, m, U)\n",
    "        self.index = mips.IndexHierarchicKmeans(d, layers, nprobe, self.aug)\n",
    "\n",
    "    def __getattr__(self, name):\n",
    "        return getattr(self.index, name)\n",
    "    \n",
    "        \n",
    "class FlatIndex:\n",
    "    def __init__(self, d):\n",
    "        self.index = faiss.IndexFlatIP(d)\n",
    "\n",
    "    def __getattr__(self, name):\n",
    "        return getattr(self.index, name)"
   ]
  },
  {
   "cell_type": "markdown",
   "metadata": {},
   "source": [
    "# Round 1\n",
    "\n",
    "Here we start calling our indices on the data, and log the results. "
   ]
  },
  {
   "cell_type": "markdown",
   "metadata": {},
   "source": [
    "IVF"
   ]
  },
  {
   "cell_type": "code",
   "execution_count": 7,
   "metadata": {},
   "outputs": [
    {
     "name": "stderr",
     "output_type": "stream",
     "text": [
      "2017-11-29 03:36:18,262 - root - INFO - Adding: (params={'d': 256, 'size': 4096, 'nprobe': 1}, p1=0.20, t=2.22)\n",
      "2017-11-29 03:36:41,395 - root - INFO - Adding: (params={'d': 256, 'size': 4096, 'nprobe': 16}, p1=0.26, t=8.90)\n",
      "2017-11-29 03:37:14,259 - root - INFO - Adding: (params={'d': 256, 'size': 4096, 'nprobe': 32}, p1=0.26, t=17.66)\n",
      "2017-11-29 03:38:04,275 - root - INFO - Adding: (params={'d': 256, 'size': 4096, 'nprobe': 64}, p1=0.26, t=35.05)\n",
      "2017-11-29 03:39:23,187 - root - INFO - Adding: (params={'d': 256, 'size': 4096, 'nprobe': 128}, p1=0.26, t=63.53)\n"
     ]
    }
   ],
   "source": [
    "for size in [4096]:\n",
    "    for nprobe in [1, 16, 32, 64, 128]:\n",
    "        add_result(\n",
    "            test(\n",
    "                IVFIndex, d=d, size=size, nprobe=nprobe))"
   ]
  },
  {
   "cell_type": "markdown",
   "metadata": {},
   "source": [
    "Kmeans"
   ]
  },
  {
   "cell_type": "code",
   "execution_count": 8,
   "metadata": {},
   "outputs": [
    {
     "name": "stderr",
     "output_type": "stream",
     "text": [
      "2017-11-29 03:39:58,857 - root - INFO - Adding: (params={'d': 256, 'layers': 2, 'nprobe': 1, 'm': 5, 'U': 0.85}, p1=0.10, t=3.19)\n",
      "2017-11-29 03:41:06,709 - root - INFO - Adding: (params={'d': 256, 'layers': 2, 'nprobe': 16, 'm': 5, 'U': 0.85}, p1=0.23, t=28.02)\n",
      "2017-11-29 03:42:24,757 - root - INFO - Adding: (params={'d': 256, 'layers': 2, 'nprobe': 32, 'm': 5, 'U': 0.85}, p1=0.25, t=46.81)\n",
      "2017-11-29 03:44:53,502 - root - INFO - Adding: (params={'d': 256, 'layers': 2, 'nprobe': 64, 'm': 5, 'U': 0.85}, p1=0.25, t=117.94)\n",
      "2017-11-29 03:49:12,149 - root - INFO - Adding: (params={'d': 256, 'layers': 2, 'nprobe': 128, 'm': 5, 'U': 0.85}, p1=0.26, t=218.51)\n"
     ]
    }
   ],
   "source": [
    "for layers in [2]:\n",
    "    for nprobe in [1, 16, 32, 64, 128]:\n",
    "        add_result(\n",
    "            test(\n",
    "                KMeansIndex, d=d, layers=layers, nprobe=nprobe, m=5, U=0.85))"
   ]
  },
  {
   "cell_type": "markdown",
   "metadata": {},
   "source": [
    "# Round 2"
   ]
  },
  {
   "cell_type": "markdown",
   "metadata": {},
   "source": [
    "IVF"
   ]
  },
  {
   "cell_type": "code",
   "execution_count": 9,
   "metadata": {},
   "outputs": [
    {
     "name": "stderr",
     "output_type": "stream",
     "text": [
      "2017-11-29 03:51:34,562 - root - INFO - Adding: (params={'d': 256, 'size': 4096, 'nprobe': 256}, p1=0.26, t=127.72)\n",
      "2017-11-29 03:56:53,829 - root - INFO - Adding: (params={'d': 256, 'size': 4096, 'nprobe': 512}, p1=0.26, t=306.37)\n"
     ]
    }
   ],
   "source": [
    "for size in [4096]:\n",
    "    for nprobe in [256, 512]:\n",
    "        add_result(\n",
    "            test(\n",
    "                IVFIndex, d=d, size=size, nprobe=nprobe))"
   ]
  },
  {
   "cell_type": "markdown",
   "metadata": {},
   "source": [
    "Kmeans"
   ]
  },
  {
   "cell_type": "code",
   "execution_count": 10,
   "metadata": {
    "code_folding": []
   },
   "outputs": [
    {
     "name": "stderr",
     "output_type": "stream",
     "text": [
      "2017-11-29 04:05:22,084 - root - INFO - Adding: (params={'d': 256, 'layers': 2, 'nprobe': 256, 'm': 5, 'U': 0.85}, p1=0.26, t=470.09)\n",
      "2017-11-29 04:22:39,340 - root - INFO - Adding: (params={'d': 256, 'layers': 2, 'nprobe': 512, 'm': 5, 'U': 0.85}, p1=0.26, t=996.20)\n"
     ]
    }
   ],
   "source": [
    "for layers in [2]:\n",
    "    for nprobe in [256, 512]:\n",
    "        add_result(\n",
    "            test(\n",
    "                KMeansIndex, d=d, layers=layers, nprobe=nprobe, m=5, U=0.85))"
   ]
  },
  {
   "cell_type": "code",
   "execution_count": 11,
   "metadata": {},
   "outputs": [
    {
     "name": "stderr",
     "output_type": "stream",
     "text": [
      "2017-11-29 04:24:34,750 - root - INFO - Adding: (params={'d': 256, 'layers': 3, 'nprobe': 1, 'm': 5, 'U': 0.85}, p1=0.17, t=0.95)\n",
      "2017-11-29 04:26:40,635 - root - INFO - Adding: (params={'d': 256, 'layers': 3, 'nprobe': 16, 'm': 5, 'U': 0.85}, p1=0.24, t=16.24)\n",
      "2017-11-29 04:29:00,570 - root - INFO - Adding: (params={'d': 256, 'layers': 3, 'nprobe': 32, 'm': 5, 'U': 0.85}, p1=0.25, t=28.75)\n",
      "2017-11-29 04:31:52,066 - root - INFO - Adding: (params={'d': 256, 'layers': 3, 'nprobe': 64, 'm': 5, 'U': 0.85}, p1=0.26, t=56.36)\n",
      "2017-11-29 04:35:48,030 - root - INFO - Adding: (params={'d': 256, 'layers': 3, 'nprobe': 128, 'm': 5, 'U': 0.85}, p1=0.26, t=120.01)\n"
     ]
    }
   ],
   "source": [
    "for layers in [3]:\n",
    "    for nprobe in [1, 16, 32, 64, 128]:\n",
    "        add_result(\n",
    "            test(\n",
    "                KMeansIndex, d=d, layers=layers, nprobe=nprobe, m=5, U=0.85))"
   ]
  },
  {
   "cell_type": "markdown",
   "metadata": {},
   "source": [
    "# Baseline\n",
    "\n",
    "This is a flat index, i.e. full scan over queries, but implemented in an efficient way (`FAISS`)"
   ]
  },
  {
   "cell_type": "code",
   "execution_count": 16,
   "metadata": {},
   "outputs": [
    {
     "name": "stderr",
     "output_type": "stream",
     "text": [
      "2017-11-29 08:37:40,462 - root - INFO - Adding: (params={'d': 256}, p1=0.26, t=76.79)\n"
     ]
    }
   ],
   "source": [
    "add_result(\n",
    "    test(\n",
    "        FlatIndex, d=d))"
   ]
  },
  {
   "cell_type": "markdown",
   "metadata": {},
   "source": [
    "# Full Results"
   ]
  },
  {
   "cell_type": "code",
   "execution_count": 17,
   "metadata": {
    "scrolled": false
   },
   "outputs": [
    {
     "data": {
      "text/plain": [
       "[{'ID': 'cb242a7ee24d4d67a2fe02de3a1bdbd9',\n",
       "  'date': '29-11-17 03:35:42',\n",
       "  'name': 'ad-hoc-results',\n",
       "  'results': [{'ID': '676aef8b04634398b771f50968214a58',\n",
       "    'algo': 'IVFIndex',\n",
       "    'p1': 0.200736,\n",
       "    'params': {'d': 256, 'nprobe': 1, 'size': 4096},\n",
       "    'search_t': 2.2170853615,\n",
       "    'train_t': 13.4234347343},\n",
       "   {'ID': '61e7171949f14c05b945ab94c6bd0ce9',\n",
       "    'algo': 'IVFIndex',\n",
       "    'p1': 0.259944,\n",
       "    'params': {'d': 256, 'nprobe': 16, 'size': 4096},\n",
       "    'search_t': 8.8973531723,\n",
       "    'train_t': 14.0358781815},\n",
       "   {'ID': '841545920696448a8e80b1f2898b97f3',\n",
       "    'algo': 'IVFIndex',\n",
       "    'p1': 0.261544,\n",
       "    'params': {'d': 256, 'nprobe': 32, 'size': 4096},\n",
       "    'search_t': 17.6637027264,\n",
       "    'train_t': 15.0076646805},\n",
       "   {'ID': 'b1e9abf2d31345fba578d2b7fc7e3981',\n",
       "    'algo': 'IVFIndex',\n",
       "    'p1': 0.262524,\n",
       "    'params': {'d': 256, 'nprobe': 64, 'size': 4096},\n",
       "    'search_t': 35.0478925705,\n",
       "    'train_t': 14.7847852707},\n",
       "   {'ID': '6d6e349669e04fff9fd9a4b6b0abb41b',\n",
       "    'algo': 'IVFIndex',\n",
       "    'p1': 0.262532,\n",
       "    'params': {'d': 256, 'nprobe': 128, 'size': 4096},\n",
       "    'search_t': 63.5252978802,\n",
       "    'train_t': 15.2022690773},\n",
       "   {'ID': 'a33009921c3e4bd2979ef1be5083df42',\n",
       "    'algo': 'KMeansIndex',\n",
       "    'p1': 0.09866000000000001,\n",
       "    'params': {'U': 0.85, 'd': 256, 'layers': 2, 'm': 5, 'nprobe': 1},\n",
       "    'search_t': 3.1892874241,\n",
       "    'train_t': 32.3019900322},\n",
       "   {'ID': 'b5786135c77744d28920625f2e28950c',\n",
       "    'algo': 'KMeansIndex',\n",
       "    'p1': 0.22968000000000002,\n",
       "    'params': {'U': 0.85, 'd': 256, 'layers': 2, 'm': 5, 'nprobe': 16},\n",
       "    'search_t': 28.0237004757,\n",
       "    'train_t': 39.6747744083},\n",
       "   {'ID': 'd1a26ae75730409c89b64256f28e8181',\n",
       "    'algo': 'KMeansIndex',\n",
       "    'p1': 0.245104,\n",
       "    'params': {'U': 0.85, 'd': 256, 'layers': 2, 'm': 5, 'nprobe': 32},\n",
       "    'search_t': 46.8130142689,\n",
       "    'train_t': 31.0801606178},\n",
       "   {'ID': '10863e4186e548938b8999cd6f9423d2',\n",
       "    'algo': 'KMeansIndex',\n",
       "    'p1': 0.25218799999999997,\n",
       "    'params': {'U': 0.85, 'd': 256, 'layers': 2, 'm': 5, 'nprobe': 64},\n",
       "    'search_t': 117.93790555,\n",
       "    'train_t': 30.6302826405},\n",
       "   {'ID': '1c4aa43595274f25a2ca13469e742fb5',\n",
       "    'algo': 'KMeansIndex',\n",
       "    'p1': 0.256496,\n",
       "    'params': {'U': 0.85, 'd': 256, 'layers': 2, 'm': 5, 'nprobe': 128},\n",
       "    'search_t': 218.5101277828,\n",
       "    'train_t': 39.9666452408},\n",
       "   {'ID': '128322c23da246e1b3b150e8dcb4b40c',\n",
       "    'algo': 'IVFIndex',\n",
       "    'p1': 0.262768,\n",
       "    'params': {'d': 256, 'nprobe': 256, 'size': 4096},\n",
       "    'search_t': 127.7227060795,\n",
       "    'train_t': 14.5262546539},\n",
       "   {'ID': 'b874a127908246d8b5f73d5467381031',\n",
       "    'algo': 'IVFIndex',\n",
       "    'p1': 0.26251199999999997,\n",
       "    'params': {'d': 256, 'nprobe': 512, 'size': 4096},\n",
       "    'search_t': 306.3660495281,\n",
       "    'train_t': 12.6959533691},\n",
       "   {'ID': '5f30e1898c784248b41faf489bb24c5f',\n",
       "    'algo': 'KMeansIndex',\n",
       "    'p1': 0.25978,\n",
       "    'params': {'U': 0.85, 'd': 256, 'layers': 2, 'm': 5, 'nprobe': 256},\n",
       "    'search_t': 470.0903446674,\n",
       "    'train_t': 37.9837355614},\n",
       "   {'ID': 'b9d05381057342658f24920afcb4aaa5',\n",
       "    'algo': 'KMeansIndex',\n",
       "    'p1': 0.261644,\n",
       "    'params': {'U': 0.85, 'd': 256, 'layers': 2, 'm': 5, 'nprobe': 512},\n",
       "    'search_t': 996.1971189976,\n",
       "    'train_t': 40.8765103817},\n",
       "   {'ID': '5f0ce1e2294f4f94b44947238b23c9ef',\n",
       "    'algo': 'KMeansIndex',\n",
       "    'p1': 0.165844,\n",
       "    'params': {'U': 0.85, 'd': 256, 'layers': 3, 'm': 5, 'nprobe': 1},\n",
       "    'search_t': 0.9454703331000001,\n",
       "    'train_t': 114.2820067406},\n",
       "   {'ID': '09cb698ba8694ac4b5ab3da4d2a4b0cf',\n",
       "    'algo': 'KMeansIndex',\n",
       "    'p1': 0.23721199999999998,\n",
       "    'params': {'U': 0.85, 'd': 256, 'layers': 3, 'm': 5, 'nprobe': 16},\n",
       "    'search_t': 16.2439284325,\n",
       "    'train_t': 109.4704911709},\n",
       "   {'ID': '98ac85829630437dafc60259fdc8f921',\n",
       "    'algo': 'KMeansIndex',\n",
       "    'p1': 0.2526,\n",
       "    'params': {'U': 0.85, 'd': 256, 'layers': 3, 'm': 5, 'nprobe': 32},\n",
       "    'search_t': 28.7453756332,\n",
       "    'train_t': 111.0135860443},\n",
       "   {'ID': 'df1a5edcd1ad4ba1b781f84b1baf57fe',\n",
       "    'algo': 'KMeansIndex',\n",
       "    'p1': 0.25762,\n",
       "    'params': {'U': 0.85, 'd': 256, 'layers': 3, 'm': 5, 'nprobe': 64},\n",
       "    'search_t': 56.3616471291,\n",
       "    'train_t': 114.964880228},\n",
       "   {'ID': '6251b56c3e7b410e8a501d4ee049c240',\n",
       "    'algo': 'KMeansIndex',\n",
       "    'p1': 0.26122,\n",
       "    'params': {'U': 0.85, 'd': 256, 'layers': 3, 'm': 5, 'nprobe': 128},\n",
       "    'search_t': 120.0139598846,\n",
       "    'train_t': 115.7716140747},\n",
       "   \"__init__() got an unexpected keyword argument 'd'\",\n",
       "   \"__init__() got an unexpected keyword argument 'd'\",\n",
       "   {'ID': '9c6d1925d952484f9f3fb998ac953cc7',\n",
       "    'algo': 'FlatIndex',\n",
       "    'p1': 0.262256,\n",
       "    'params': {'d': 256},\n",
       "    'search_t': 76.7905533314,\n",
       "    'train_t': 0.030953884100000002}]}]"
      ]
     },
     "execution_count": 17,
     "metadata": {},
     "output_type": "execute_result"
    }
   ],
   "source": [
    "\n",
    "DB.all()"
   ]
  },
  {
   "cell_type": "code",
   "execution_count": null,
   "metadata": {
    "collapsed": true
   },
   "outputs": [],
   "source": []
  }
 ],
 "metadata": {
  "kernelspec": {
   "display_name": "Python 3",
   "language": "python",
   "name": "python3"
  },
  "language_info": {
   "codemirror_mode": {
    "name": "ipython",
    "version": 3
   },
   "file_extension": ".py",
   "mimetype": "text/x-python",
   "name": "python",
   "nbconvert_exporter": "python",
   "pygments_lexer": "ipython3",
   "version": "3.6.1"
  },
  "latex_envs": {
   "LaTeX_envs_menu_present": true,
   "autocomplete": true,
   "bibliofile": "biblio.bib",
   "cite_by": "apalike",
   "current_citInitial": 1,
   "eqLabelWithNumbers": true,
   "eqNumInitial": 1,
   "hotkeys": {
    "equation": "Ctrl-E",
    "itemize": "Ctrl-I"
   },
   "labels_anchors": false,
   "latex_user_defs": false,
   "report_style_numbering": false,
   "user_envs_cfg": false
  }
 },
 "nbformat": 4,
 "nbformat_minor": 2
}
